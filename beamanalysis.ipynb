# Nonlinear Load-Deflection Simulation of FRP-Strengthened RC Beam
# Author: Hamad Ali
# Description: Simplified example to simulate and visualize the effect of FRP on beam stiffness

import numpy as np
import matplotlib.pyplot as plt

# Beam parameters
load = np.linspace(0, 100, 50)  # Applied load (kN)
deflection_plain = 0.001 * load**2
deflection_frp = 0.0008 * load**2  # FRP reduces deflection by ~20%

# Plot
plt.figure()
plt.plot(load, deflection_plain, label="RC Beam")
plt.plot(load, deflection_frp, label="FRP Strengthened Beam")
plt.xlabel("Load (kN)")
plt.ylabel("Deflection (mm)")
plt.title("Load-Deflection Comparison")
plt.legend()
plt.grid(True)
plt.show()
